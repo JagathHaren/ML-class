{
 "cells": [
  {
   "cell_type": "markdown",
   "metadata": {},
   "source": [
    "# 1. Write a Python program which accepts the user's first and last name and print them in reverse order with a space between them"
   ]
  },
  {
   "cell_type": "code",
   "execution_count": 1,
   "metadata": {},
   "outputs": [
    {
     "name": "stdout",
     "output_type": "stream",
     "text": [
      "Enter your first name: Jagath\n",
      "Enter your second name: Haren\n",
      "Haren Jagath\n"
     ]
    }
   ],
   "source": [
    "fname = input(\"Enter your first name: \")\n",
    "sname = input(\"Enter your second name: \")\n",
    "print(sname,fname)"
   ]
  },
  {
   "cell_type": "markdown",
   "metadata": {},
   "source": [
    "# 2. Write a Python program to calculate number of days between two dates."
   ]
  },
  {
   "cell_type": "code",
   "execution_count": 2,
   "metadata": {},
   "outputs": [
    {
     "name": "stdout",
     "output_type": "stream",
     "text": [
      "Enter the first date in dd/mm/yyyy format:7/3/2017\n",
      "Enter the second date in dd/mm/yyyy format:9/3/2017\n",
      "The number of days between 2017-03-07 and 2017-03-09 is:  2\n"
     ]
    }
   ],
   "source": [
    "from datetime import date\n",
    "d1,m1,y1 = [int(x) for x in input(\"Enter the first date in dd/mm/yyyy format:\").split(\"/\")]\n",
    "d2,m2,y2 = [int(x) for x in input(\"Enter the second date in dd/mm/yyyy format:\").split(\"/\")]\n",
    "date1 = date(y1,m1,d1)\n",
    "date2 = date(y2,m2,d2)\n",
    "print(\"The number of days between\",date1,\"and\",date2,\"is: \",(date2-date1).days)"
   ]
  },
  {
   "cell_type": "markdown",
   "metadata": {},
   "source": [
    "# 3. Write a Python program to test whether a passed letter is a vowel or not"
   ]
  },
  {
   "cell_type": "code",
   "execution_count": 3,
   "metadata": {},
   "outputs": [
    {
     "name": "stdout",
     "output_type": "stream",
     "text": [
      "Enter a letter: U\n",
      "U is a vowel\n"
     ]
    }
   ],
   "source": [
    "ch = input(\"Enter a letter: \")\n",
    "vowels= 'aeiouAEIOU'\n",
    "if ch in vowels:\n",
    "    print(ch,\"is a vowel\")\n",
    "else:\n",
    "    print(ch,\"is not a vowel\")"
   ]
  },
  {
   "cell_type": "markdown",
   "metadata": {},
   "source": [
    "# 4. Write a Python program to sum of three given integers. However, if two values are equal sum will be zero."
   ]
  },
  {
   "cell_type": "code",
   "execution_count": 4,
   "metadata": {},
   "outputs": [
    {
     "name": "stdout",
     "output_type": "stream",
     "text": [
      "enter the three numbers:3 5 5\n",
      "the sum is 0\n"
     ]
    }
   ],
   "source": [
    "a,b,c = [int(x) for x in input(\"enter the three numbers:\").split()]\n",
    "if(a==b or b==c or c==a):\n",
    "    print(\"the sum is 0\")\n",
    "else:\n",
    "    print(\"the sum is \",a+b+c)"
   ]
  },
  {
   "cell_type": "markdown",
   "metadata": {},
   "source": [
    "# 5. Write a Python program to count the number of characters (character frequency) in a string."
   ]
  },
  {
   "cell_type": "code",
   "execution_count": 6,
   "metadata": {},
   "outputs": [
    {
     "name": "stdout",
     "output_type": "stream",
     "text": [
      "Enter a string:Banana\n",
      "The character frequency in the string Banana is: 6\n"
     ]
    }
   ],
   "source": [
    "str = input(\"Enter a string:\")\n",
    "c=0\n",
    "for x in str:\n",
    "    c+=1\n",
    "print(\"The character frequency in the string\",str,\"is:\",c)"
   ]
  }
 ],
 "metadata": {
  "kernelspec": {
   "display_name": "Python 3",
   "language": "python",
   "name": "python3"
  },
  "language_info": {
   "codemirror_mode": {
    "name": "ipython",
    "version": 3
   },
   "file_extension": ".py",
   "mimetype": "text/x-python",
   "name": "python",
   "nbconvert_exporter": "python",
   "pygments_lexer": "ipython3",
   "version": "3.7.6"
  }
 },
 "nbformat": 4,
 "nbformat_minor": 4
}
